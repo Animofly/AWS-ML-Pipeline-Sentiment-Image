import pandas as pd
from sklearn.model_selection import train_test_split
from sklearn.feature_extraction.text import CountVectorizer
from sklearn.linear_model import LogisticRegression

# Load Dataset
data = pd.read_csv('Reviews.csv')
X = data['Text']
y = data['Score'].apply(lambda x: 1 if x > 3 else 0)

# Preprocessing
vectorizer = CountVectorizer(max_features=5000)
X_vec = vectorizer.fit_transform(X)

# Train Model
X_train, X_test, y_train, y_test = train_test_split(X_vec, y, test_size=0.2)
model = LogisticRegression()
model.fit(X_train, y_train)

# Save Model
import joblib
joblib.dump(model, 'text_model.joblib')
